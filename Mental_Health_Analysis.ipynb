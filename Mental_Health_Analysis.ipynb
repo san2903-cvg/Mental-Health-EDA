{
 "cells": [
  {
   "cell_type": "code",
   "execution_count": null,
   "id": "ea981a8f-78fe-407f-a057-9525b227ccd3",
   "metadata": {},
   "outputs": [],
   "source": [
    "import pandas as pd\n",
    "import numpy as np\n",
    "import seaborn as sns\n",
    "import matplotlib.pyplot as plt\n",
    "data= pd.read_csv(\"mental_health_finaldata_1.csv\")\n",
    "data.head()"
   ]
  },
  {
   "cell_type": "markdown",
   "id": "918b4d90-272c-42ca-b7c3-a9f8cce95823",
   "metadata": {},
   "source": [
    "#Demographic Distribution:\n",
    "\n",
    "**What is the distribution of age groups in the dataset?"
   ]
  },
  {
   "cell_type": "code",
   "execution_count": 17,
   "id": "7b5230b4-b094-4516-8ae3-40ac38ad39f8",
   "metadata": {},
   "outputs": [
    {
     "data": {
      "text/plain": [
       "<Axes: xlabel='Age', ylabel='count'>"
      ]
     },
     "execution_count": 17,
     "metadata": {},
     "output_type": "execute_result"
    },
    {
     "data": {
      "image/png": "[encoded data removed]",
      "text/plain": [
       "<Figure size 640x480 with 1 Axes>"
      ]
     },
     "metadata": {},
     "output_type": "display_data"
    }
   ],
   "source": [
    "sns.countplot(data=data,x=\"Age\")"
   ]
  },
  {
   "cell_type": "markdown",
   "id": "4f61ec56-5571-4ea2-a8bc-3b0f6a2a0d88",
   "metadata": {},
   "source": [
    "*Filter data by specific age ranges for further analysis."
   ]
  },
  {
   "cell_type": "markdown",
   "id": "72ef79ad-7869-4f4d-b3dc-4f8616fe11e0",
   "metadata": {},
   "source": [
    "**What is the gender distribution in the dataset?"
   ]
  },
  {
   "cell_type": "code",
   "execution_count": 18,
   "id": "8c6ff8af-909b-4383-93c2-db7e83fa129b",
   "metadata": {},
   "outputs": [
    {
     "data": {
      "text/plain": [
       "<Axes: xlabel='Gender', ylabel='count'>"
      ]
     },
     "execution_count": 18,
     "metadata": {},
     "output_type": "execute_result"
    },
    {
     "data": {
      "image/png": "[encoded data removed]",
      "text/plain": [
       "<Figure size 640x480 with 1 Axes>"
      ]
     },
     "metadata": {},
     "output_type": "display_data"
    }
   ],
   "source": [
    "sns.countplot(data=data,x=\"Gender\")"
   ]
  },
  {
   "cell_type": "markdown",
   "id": "30d84115-52bf-4a67-ba6e-9cb1a9c7db72",
   "metadata": {},
   "source": [
    "*Compare gender distributions across different variables."
   ]
  },
  {
   "cell_type": "markdown",
   "id": "5dba2291-b472-4c34-99c0-649a300dc0df",
   "metadata": {},
   "source": [
    "**What are the most common occupations in the dataset?"
   ]
  },
  {
   "cell_type": "code",
   "execution_count": null,
   "id": "a363650a-76be-46e2-ad66-79aec3d4521e",
   "metadata": {},
   "outputs": [],
   "source": [
    "data[[\"Occupation\"]].mode()"
   ]
  },
  {
   "cell_type": "markdown",
   "id": "77be0c62-c0a6-4067-820f-244e9b0a18d4",
   "metadata": {},
   "source": [
    "#Quarantine and Lifestyle Changes:\n",
    "\n",
    "**How many days, on average, did people spend indoors? "
   ]
  },
  {
   "cell_type": "code",
   "execution_count": null,
   "id": "1fa1d6a4-51d6-46f2-9903-55c77495efd2",
   "metadata": {},
   "outputs": [],
   "source": [
    "data[\"Days_Indoors\"].value_counts()"
   ]
  },
  {
   "cell_type": "code",
   "execution_count": null,
   "id": "86f63098-c750-4f4b-9297-92b0587383e7",
   "metadata": {},
   "outputs": [],
   "source": [
    "def a(x):\n",
    "    if x==\"1-14 days\":\n",
    "        return 7\n",
    "    elif x==\"15-30 days\":\n",
    "        return 14\n",
    "    elif x==\"31-60 days\":\n",
    "        return 45\n",
    "    elif x==\"More than 2 months\":\n",
    "        return 75\n",
    "    else:\n",
    "        return 0\n",
    "data[\"mean_col\"]=data[\"Days_Indoors\"].apply(a)\n",
    "data.head()\n",
    "        "
   ]
  },
  {
   "cell_type": "code",
   "execution_count": null,
   "id": "261d3868-2e49-4445-9e90-d049ac0bc5e9",
   "metadata": {},
   "outputs": [],
   "source": [
    "data[\"mean_col\"].mean()"
   ]
  },
  {
   "cell_type": "markdown",
   "id": "c254c4fc-0571-4ce9-930c-70d6e630db2d",
   "metadata": {},
   "source": [
    "*What percentage of respondents reported growing stress due to quarantine? "
   ]
  },
  {
   "cell_type": "code",
   "execution_count": null,
   "id": "23d2c3bf-7ed3-4837-9cb7-d9f90a689a8d",
   "metadata": {},
   "outputs": [],
   "source": [
    "yes_count=data.loc[data[\"Growing_Stress\"]==\"Yes\"].shape[0]\n",
    "total=data.shape[0]\n",
    "percentage=(yes_count/total)*100\n",
    "percentage"
   ]
  },
  {
   "cell_type": "markdown",
   "id": "63be5805-6c24-403f-a012-f4dd5c3ad0f8",
   "metadata": {},
   "source": [
    "*How many respondents reported changes in their habits during quarantine?"
   ]
  },
  {
   "cell_type": "code",
   "execution_count": null,
   "id": "a16272c4-ae2f-4967-8381-3f17df03e0a2",
   "metadata": {},
   "outputs": [],
   "source": [
    "yes_count1=data.loc[data[\"Changes_Habits\"]==\"Yes\"].shape[0]\n",
    "total1=data.shape[0]\n",
    "percentage1=(yes_count1/total1)*100\n",
    "percentage1"
   ]
  },
  {
   "cell_type": "markdown",
   "id": "0c65bea8-e854-4482-958f-a148010772a9",
   "metadata": {},
   "source": [
    "#Mental Health and Mood:\n",
    "\n",
    "**What percentage of respondents have a history of mental health issues? "
   ]
  },
  {
   "cell_type": "code",
   "execution_count": null,
   "id": "f0c98694-400a-4159-87a0-e9a3f742b6c7",
   "metadata": {},
   "outputs": [],
   "source": [
    "yes_count2=data.loc[data[\"Mental_Health_History\"]==\"Yes\"].shape[0]\n",
    "total2=data.shape[0]\n",
    "percentage2=(yes_count2/total2)*100\n",
    "percentage2"
   ]
  },
  {
   "cell_type": "markdown",
   "id": "14805c02-de0e-4a97-ad81-3d0a03ef2d2d",
   "metadata": {},
   "source": [
    "**How many respondents experienced weight changes during quarantine? "
   ]
  },
  {
   "cell_type": "code",
   "execution_count": null,
   "id": "2982551b-88ab-4b1b-aa27-1580e85e4852",
   "metadata": {},
   "outputs": [],
   "source": [
    "yes_count3=data.loc[data[\"Weight_Change\"]==\"Yes\"].shape[0]\n",
    "total3=data.shape[0]\n",
    "percentage3=(yes_count3/total3)*100\n",
    "percentage3"
   ]
  },
  {
   "cell_type": "markdown",
   "id": "1b9c6b9a-ef7a-42bb-a9bb-91642306a7ad",
   "metadata": {},
   "source": [
    " **What is the distribution of mood swings among respondents?"
   ]
  },
  {
   "cell_type": "code",
   "execution_count": null,
   "id": "a2ba5715-759d-46ae-8a5a-65c19a901264",
   "metadata": {},
   "outputs": [],
   "source": [
    "sns.countplot(x=\"Mood_Swings\", data=data)\n"
   ]
  },
  {
   "cell_type": "markdown",
   "id": "c482c84b-1e97-48d6-9b10-bc59a3c0de2c",
   "metadata": {},
   "source": [
    "#Correlation Analysis:\n",
    "\n",
    "**Is there a correlation between the number of days spent indoors and growing stress levels?\n"
   ]
  },
  {
   "cell_type": "code",
   "execution_count": null,
   "id": "bc61d7ba-d8d8-48f7-89a4-a7c029f01fde",
   "metadata": {},
   "outputs": [],
   "source": [
    "sns.countplot(data=data,x=\"Days_Indoors\",hue=\"Growing_Stress\")"
   ]
  },
  {
   "cell_type": "markdown",
   "id": "eb081992-d714-496a-a5d5-81c1cd918155",
   "metadata": {},
   "source": [
    " **How does the occupation of respondents relate to their mental health history?"
   ]
  },
  {
   "cell_type": "code",
   "execution_count": null,
   "id": "314d4045-12c3-427e-9ccc-f8f096ded310",
   "metadata": {},
   "outputs": [],
   "source": [
    "sns.countplot(data=data,x=\"Occupation\",hue=\"Mental_Health_History\")"
   ]
  },
  {
   "cell_type": "markdown",
   "id": "d09b6478-b0b5-4477-bc7c-00c1ab8f841d",
   "metadata": {},
   "source": [
    "**Is there a relationship between age groups and weight change?"
   ]
  },
  {
   "cell_type": "code",
   "execution_count": null,
   "id": "f3926dfc-a34b-4b89-b068-6942689cd82c",
   "metadata": {},
   "outputs": [],
   "source": [
    "sns.countplot(data=data,x=\"Weight_Change\",hue=\"Age\")"
   ]
  },
  {
   "cell_type": "markdown",
   "id": "6682af1c-2363-4ba9-83c7-69d94105f680",
   "metadata": {},
   "source": [
    "**Compare the mental health history between males and females. Are there significant differences?"
   ]
  },
  {
   "cell_type": "code",
   "execution_count": null,
   "id": "2b455f65-170f-4680-848b-7f96757eb8ce",
   "metadata": {},
   "outputs": [],
   "source": [
    "sns.countplot(data=data,x=\"Gender\",hue=\"Mental_Health_History\")"
   ]
  },
  {
   "cell_type": "markdown",
   "id": "fb9b7fab-91c6-45e2-8eef-6bf1a17fdc84",
   "metadata": {},
   "source": [
    "**Are there significant differences? How do mood swings vary across different occupations? "
   ]
  },
  {
   "cell_type": "code",
   "execution_count": null,
   "id": "905eccf8-ab2b-4826-bd52-d1afd9c1ef1d",
   "metadata": {},
   "outputs": [],
   "source": [
    "sns.countplot(data=data,x=\"Occupation\",hue=\"Mood_Swings\")"
   ]
  },
  {
   "cell_type": "markdown",
   "id": "a31b55a4-f593-44d6-a624-00cb2508bf61",
   "metadata": {},
   "source": [
    "**Analyze the stress levels among different age groups."
   ]
  },
  {
   "cell_type": "code",
   "execution_count": null,
   "id": "7031968c-fd92-4b0a-8946-d6dae75e3d4c",
   "metadata": {},
   "outputs": [],
   "source": [
    "sns.countplot(data=data,x=\"Growing_Stress\",hue=\"Age\")"
   ]
  },
  {
   "cell_type": "markdown",
   "id": "4ade5a0b-c5cd-439c-8864-b7c2127875e4",
   "metadata": {},
   "source": [
    "#Impact of Quarantine:\n",
    "\n",
    "**How does the duration of time spent indoors affect quarantine frustrations and changes in habits?"
   ]
  },
  {
   "cell_type": "code",
   "execution_count": null,
   "id": "173cdcb9-4f1b-4fd8-a0d4-dc051d850e14",
   "metadata": {},
   "outputs": [],
   "source": [
    "df=data.groupby([\"Days_Indoors\",\"Quarantine_Frustrations\",\"Changes_Habits\"]).size().reset_index()\n",
    "df"
   ]
  },
  {
   "cell_type": "code",
   "execution_count": null,
   "id": "89257d8d-51a6-426b-abb4-403be9f6bfe9",
   "metadata": {},
   "outputs": [],
   "source": [
    "sns.barplot(data=df,x=\"Days_Indoors\",y=0,hue=\"Quarantine_Frustrations\")"
   ]
  },
  {
   "cell_type": "code",
   "execution_count": null,
   "id": "a7123a01-ee6a-45b8-bb11-eebd8009ba5b",
   "metadata": {},
   "outputs": [],
   "source": [
    "sns.barplot(data=df,x=\"Days_Indoors\",y=0,hue=\"Changes_Habits\")"
   ]
  },
  {
   "cell_type": "markdown",
   "id": "7d3b57f4-cd70-42ab-b8de-0a53b2ca7a65",
   "metadata": {},
   "source": [
    " **What is the impact of quarantine on mental health across different demographic groups?"
   ]
  },
  {
   "cell_type": "code",
   "execution_count": null,
   "id": "d2b15821-a0db-4258-bde3-16b0066d3c6b",
   "metadata": {},
   "outputs": [],
   "source": [
    "df1=data.groupby([\"Quarantine_Frustrations\",\"Mental_Health_History\",\"Age\"]).size().reset_index()\n",
    "df1"
   ]
  },
  {
   "cell_type": "code",
   "execution_count": null,
   "id": "44c2e9df-b775-4119-bd0a-bdd70e642022",
   "metadata": {},
   "outputs": [],
   "source": [
    "sns.barplot(data=df1,x=\"Quarantine_Frustrations\",y=0,hue=\"Mental_Health_History\")\n"
   ]
  },
  {
   "cell_type": "code",
   "execution_count": null,
   "id": "6d2ec6d2-afe4-4873-a384-514ffa2d65b3",
   "metadata": {},
   "outputs": [],
   "source": [
    "sns.barplot(data=df1,x=\"Quarantine_Frustrations\",y=0,hue=\"Age\")"
   ]
  },
  {
   "cell_type": "markdown",
   "id": "f1d92dc1-fa2b-45a6-86a5-8a658e9d0fac",
   "metadata": {},
   "source": [
    "**Investigate the relationship between quarantine frustrations and mood swings."
   ]
  },
  {
   "cell_type": "code",
   "execution_count": null,
   "id": "b9b0d808-da16-4a97-af4c-25454fac2248",
   "metadata": {},
   "outputs": [],
   "source": [
    "sns.countplot(data=data,x=\"Quarantine_Frustrations\",hue=\"Mood_Swings\")"
   ]
  },
  {
   "cell_type": "markdown",
   "id": "e24ddbb0-3c7f-4842-88a2-6ef035990dd0",
   "metadata": {},
   "source": [
    "**What factors contribute most to growing stress during quarantine?"
   ]
  },
  {
   "cell_type": "code",
   "execution_count": null,
   "id": "fbebbba7-7b38-447f-afa4-c65222e3a3b9",
   "metadata": {},
   "outputs": [],
   "source": [
    "data.loc[data[\"Growing_Stress\"]==\"Yes\"]"
   ]
  },
  {
   "cell_type": "code",
   "execution_count": null,
   "id": "3a83c11c-0594-48ca-bff2-9a3fb955a1b5",
   "metadata": {},
   "outputs": [],
   "source": [
    "for i in data.loc[data[\"Growing_Stress\"]==\"Yes\"].columns:\n",
    "    plt.figure()\n",
    "    sns.countplot(data=data.loc[data[\"Growing_Stress\"]==\"Yes\"],x=i)\n",
    "    plt.title(i)\n",
    "    plt.show()"
   ]
  },
  {
   "cell_type": "code",
   "execution_count": null,
   "id": "9c2e17a1-aa4a-431e-8352-ab24be91b349",
   "metadata": {},
   "outputs": [],
   "source": []
  },
  {
   "cell_type": "code",
   "execution_count": null,
   "id": "9950b170-59af-4be7-9fd1-1e8a261cc6d5",
   "metadata": {},
   "outputs": [],
   "source": []
  },
  {
   "cell_type": "code",
   "execution_count": null,
   "id": "1018cfc0-2ec0-4229-92ca-809897ecc0de",
   "metadata": {},
   "outputs": [],
   "source": []
  },
  {
   "cell_type": "code",
   "execution_count": null,
   "id": "8964ee33-36e8-42e7-a936-45f8a70df4af",
   "metadata": {},
   "outputs": [],
   "source": []
  },
  {
   "cell_type": "code",
   "execution_count": null,
   "id": "0d40f3c3-9070-4353-a6d8-09ad48c63cb3",
   "metadata": {},
   "outputs": [],
   "source": []
  },
  {
   "cell_type": "code",
   "execution_count": null,
   "id": "43f63dec-a49e-45b9-9589-92d5c773fa52",
   "metadata": {},
   "outputs": [],
   "source": []
  }
 ],
 "metadata": {
  "kernelspec": {
   "display_name": "Python 3 (ipykernel)",
   "language": "python",
   "name": "python3"
  },
  "language_info": {
   "codemirror_mode": {
    "name": "ipython",
    "version": 3
   },
   "file_extension": ".py",
   "mimetype": "text/x-python",
   "name": "python",
   "nbconvert_exporter": "python",
   "pygments_lexer": "ipython3",
   "version": "3.10.10"
  }
 },
 "nbformat": 4,
 "nbformat_minor": 5
}
