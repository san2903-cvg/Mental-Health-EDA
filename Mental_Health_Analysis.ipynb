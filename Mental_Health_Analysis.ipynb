{
 "cells": [
  {
   "cell_type": "code",
   "execution_count": null,
   "id": "d504bd13-2d87-4ebe-afeb-76be0ea0bc80",
   "metadata": {},
   "outputs": [],
   "source": [
    "df.groupby(\"species\")[\"sepalengthcm\"].median().reset_index()"
   ]
  },
  {
   "cell_type": "code",
   "execution_count": null,
   "id": "188d439f-d096-4d06-bf53-e502b848a91f",
   "metadata": {},
   "outputs": [],
   "source": [
    "group_data=df.groupby(\"species\")[\"sepalengthcm\"].median().reset_index()\n",
    "sns.barplot(data=group_data,x=\"species\",y=\"sepalengthcm\")"
   ]
  },
  {
   "cell_type": "code",
   "execution_count": null,
   "id": "72be10b3-6483-410b-ab77-722b42f5da1d",
   "metadata": {},
   "outputs": [],
   "source": [
    "df.describe()"
   ]
  },
  {
   "cell_type": "code",
   "execution_count": null,
   "id": "4ae706d8-06cf-4122-ad40-3e591d7aae2e",
   "metadata": {},
   "outputs": [],
   "source": [
    "sns.boxplot(y=\"sepalengthcm\",data=df)"
   ]
  },
  {
   "cell_type": "code",
   "execution_count": null,
   "id": "8f3cf7b4-5d67-4735-beee-bc2543656ab1",
   "metadata": {},
   "outputs": [],
   "source": [
    "data= pd.read_csv(\"DATACSV/pokemon_data.csv\")\n",
    "data"
   ]
  },
  {
   "cell_type": "code",
   "execution_count": null,
   "id": "c9dfb44c-bbde-4356-8fb8-a9d71f43c459",
   "metadata": {},
   "outputs": [],
   "source": [
    "sns.countplot(data=data.loc[:,[\"Name\",\"Generation\"]],x=\"Generation\")"
   ]
  },
  {
   "cell_type": "code",
   "execution_count": null,
   "id": "8f3b8c42-ad9f-46f5-a49e-eda32473b370",
   "metadata": {},
   "outputs": [],
   "source": [
    "sns.barplot(data=df,x=\"species\",y=\"sepalengthcm\")"
   ]
  },
  {
   "cell_type": "code",
   "execution_count": null,
   "id": "7fc2e718-1504-4005-94ea-15420ceceded",
   "metadata": {},
   "outputs": [],
   "source": [
    "data= pd.read_csv(\"DATACSV/pokemon_data.csv\")\n",
    "data"
   ]
  },
  {
   "cell_type": "code",
   "execution_count": null,
   "id": "eee75a42-5e24-4a96-bc7c-602ae8a7d3dd",
   "metadata": {},
   "outputs": [],
   "source": [
    "data= pd.read_csv(\"DATACSV/pokemon_data.csv\")\n",
    "data"
   ]
  },
  {
   "cell_type": "code",
   "execution_count": null,
   "id": "f8fc07a1-1370-4047-9852-7518aec52319",
   "metadata": {},
   "outputs": [],
   "source": [
    "c_c = data.groupby([\"Type 1\", \"Type 2\"])[\"HP\"].count().reset_index()\n",
    "cc_sort=c_c.sort_values(\"HP\")\n",
    "mx_c=cc_sort.loc[cc_sort[\"HP\"]==cc_sort[\"HP\"].max()]\n",
    "mn_c=cc_sort.loc[cc_sort[\"HP\"]==cc_sort[\"HP\"].min()]\n"
   ]
  },
  {
   "cell_type": "code",
   "execution_count": null,
   "id": "9e394bcc-b4c9-40c1-8e83-54d93b0bd0cf",
   "metadata": {},
   "outputs": [],
   "source": [
    "sns.kdeplot(data=data.groupby([\"Type 1\", \"Type 2\"]).size().reset_index().sort_values(0),x=0)"
   ]
  },
  {
   "cell_type": "code",
   "execution_count": null,
   "id": "42e3373c-bf40-433a-b127-8d1ab94c23f9",
   "metadata": {},
   "outputs": [],
   "source": [
    "mx_c"
   ]
  },
  {
   "cell_type": "code",
   "execution_count": null,
   "id": "db3cbe51-9c84-4544-a45d-7cd882928a5c",
   "metadata": {},
   "outputs": [],
   "source": [
    "a=data.groupby(\"Generation\")[[\"Attack\",\"Defense\"]].mean()\n",
    "plt.plot(a.index, a[\"Attack\"], label=\"Attack\", marker=\"o\")\n",
    "plt.plot(a.index, a[\"Defense\"], label=\"Defense\", marker=\"o\")\n",
    "plt.xlabel(\"Generation\")\n",
    "plt.ylabel(\"Values\")\n",
    "plt.legend()\n",
    "plt.show()"
   ]
  },
  {
   "cell_type": "code",
   "execution_count": null,
   "id": "68f292f9-caa0-4414-9ce1-6d5c179ea8ed",
   "metadata": {},
   "outputs": [],
   "source": [
    "data.groupby(\"Type 1\")[\"Speed\"].mean()"
   ]
  },
  {
   "cell_type": "code",
   "execution_count": null,
   "id": "4d9e32cc-f9af-4e37-b974-fd25852abf07",
   "metadata": {},
   "outputs": [],
   "source": [
    "sns.barplot(data=data.groupby(\"Type 1\")[\"Speed\"].mean().reset_index(),x=\"Type 1\",y=\"Speed\")\n",
    "plt.xticks(rotation=90)\n",
    "plt.yticks(rotation=45)\n",
    "plt.show()"
   ]
  },
  {
   "cell_type": "code",
   "execution_count": null,
   "id": "e4e41beb-5821-4f28-93de-1fa0349a2a69",
   "metadata": {},
   "outputs": [],
   "source": [
    "dual_type=data.loc[~data[\"Type 2\"].isna()]\n",
    "single_type=data.loc[data[\"Type 2\"].isna()]\n",
    "dual_type\n",
    "single_type"
   ]
  },
  {
   "cell_type": "code",
   "execution_count": null,
   "id": "d060f003-25dd-4b86-b264-50e469ccf823",
   "metadata": {},
   "outputs": [],
   "source": [
    "dual_type_group=dual_type.loc[:,\"HP\":\"Speed\"].mean().reset_index()\n",
    "dual_type_group[\"Type\"]=\"Dual TYPE\"\n",
    "dual_type_group"
   ]
  },
  {
   "cell_type": "code",
   "execution_count": null,
   "id": "df85e8c3-96a9-410f-894f-7f0f52e98752",
   "metadata": {},
   "outputs": [],
   "source": [
    "single_type_group=single_type.loc[:,\"HP\":\"Speed\"].mean().reset_index()\n",
    "single_type_group[\"Type\"]=\"SINGLE TYPE\"\n",
    "single_type_group"
   ]
  },
  {
   "cell_type": "code",
   "execution_count": null,
   "id": "7dccc7b2-99b2-45c6-9edc-4c1f82ecef13",
   "metadata": {},
   "outputs": [],
   "source": [
    "final_type_data=pd.concat([dual_type_group,single_type_group])\n",
    "sns.barplot(data=final_type_data,x=\"index\",y=0)"
   ]
  },
  {
   "cell_type": "code",
   "execution_count": null,
   "id": "21b10acc-fb3d-48ff-9f27-30e169b2ab77",
   "metadata": {},
   "outputs": [],
   "source": [
    "a=data.loc[:,\"HP\":\"Speed\"]\n",
    "for i in a.columns:\n",
    "    sns.kdeplot(data=data,x=i)\n",
    "    plt.title(f\"Distribution for {i}\")\n",
    "    plt.show()"
   ]
  },
  {
   "cell_type": "code",
   "execution_count": null,
   "id": "5699d9cb-e84e-4662-9783-42406be600b8",
   "metadata": {},
   "outputs": [],
   "source": [
    "a=data.loc[:,\"HP\":\"Speed\"]\n",
    "col=list(a.columns)\n",
    "plt.figure(figsize=(10,10))\n",
    "num_col=3\n",
    "num_row=(len(col)//num_col)+1\n",
    "for i in range(len(col)):\n",
    "    plt.subplot(num_row,num_col,i+1)\n",
    "    sns.kdeplot(data=data,x=col[i])\n",
    "    plt.title(f\"Distribution for {col[i]}\")\n",
    "    plt.show()"
   ]
  },
  {
   "cell_type": "code",
   "execution_count": null,
   "id": "ea981a8f-78fe-407f-a057-9525b227ccd3",
   "metadata": {},
   "outputs": [],
   "source": [
    "import pandas as pd\n",
    "import numpy as np\n",
    "import seaborn as sns\n",
    "import matplotlib.pyplot as plt"
   ]
  },
  {
   "cell_type": "code",
   "execution_count": null,
   "id": "6142e413-f5fe-4cfa-9939-1730f9b836d5",
   "metadata": {},
   "outputs": [],
   "source": [
    "data= pd.read_csv(\"mental_health_finaldata_1.csv\")\n",
    "data"
   ]
  },
  {
   "cell_type": "code",
   "execution_count": null,
   "id": "7b5230b4-b094-4516-8ae3-40ac38ad39f8",
   "metadata": {},
   "outputs": [],
   "source": [
    "sns.countplot(data=data,x=\"Age\")"
   ]
  },
  {
   "cell_type": "code",
   "execution_count": null,
   "id": "8c6ff8af-909b-4383-93c2-db7e83fa129b",
   "metadata": {},
   "outputs": [],
   "source": [
    "sns.countplot(data=data,x=\"Gender\")"
   ]
  },
  {
   "cell_type": "code",
   "execution_count": null,
   "id": "a363650a-76be-46e2-ad66-79aec3d4521e",
   "metadata": {},
   "outputs": [],
   "source": [
    "data[[\"Occupation\"]].mode()"
   ]
  },
  {
   "cell_type": "code",
   "execution_count": null,
   "id": "1fa1d6a4-51d6-46f2-9903-55c77495efd2",
   "metadata": {},
   "outputs": [],
   "source": [
    "data[\"Days_Indoors\"].value_counts()"
   ]
  },
  {
   "cell_type": "code",
   "execution_count": null,
   "id": "86f63098-c750-4f4b-9297-92b0587383e7",
   "metadata": {},
   "outputs": [],
   "source": [
    "def a(x):\n",
    "    if x==\"1-14 days\":\n",
    "        return 7\n",
    "    elif x==\"15-30 days\":\n",
    "        return 14\n",
    "    elif x==\"31-60 days\":\n",
    "        return 45\n",
    "    elif x==\"More than 2 months\":\n",
    "        return 75\n",
    "    else:\n",
    "        return 0\n",
    "data[\"mean_col\"]=data[\"Days_Indoors\"].apply(a)\n",
    "data.head()\n",
    "        "
   ]
  },
  {
   "cell_type": "code",
   "execution_count": null,
   "id": "261d3868-2e49-4445-9e90-d049ac0bc5e9",
   "metadata": {},
   "outputs": [],
   "source": [
    "data[\"mean_col\"].mean()"
   ]
  },
  {
   "cell_type": "code",
   "execution_count": null,
   "id": "23d2c3bf-7ed3-4837-9cb7-d9f90a689a8d",
   "metadata": {},
   "outputs": [],
   "source": [
    "yes_count=data.loc[data[\"Growing_Stress\"]==\"Yes\"].shape[0]\n",
    "total=data.shape[0]\n",
    "percentage=(yes_count/total)*100\n",
    "percentage"
   ]
  },
  {
   "cell_type": "code",
   "execution_count": null,
   "id": "a16272c4-ae2f-4967-8381-3f17df03e0a2",
   "metadata": {},
   "outputs": [],
   "source": [
    "yes_count1=data.loc[data[\"Changes_Habits\"]==\"Yes\"].shape[0]\n",
    "total1=data.shape[0]\n",
    "percentage1=(yes_count1/total1)*100\n",
    "percentage1"
   ]
  },
  {
   "cell_type": "code",
   "execution_count": null,
   "id": "f0c98694-400a-4159-87a0-e9a3f742b6c7",
   "metadata": {},
   "outputs": [],
   "source": [
    "yes_count2=data.loc[data[\"Mental_Health_History\"]==\"Yes\"].shape[0]\n",
    "total2=data.shape[0]\n",
    "percentage2=(yes_count2/total2)*100\n",
    "percentage2"
   ]
  },
  {
   "cell_type": "code",
   "execution_count": null,
   "id": "2982551b-88ab-4b1b-aa27-1580e85e4852",
   "metadata": {},
   "outputs": [],
   "source": [
    "yes_count3=data.loc[data[\"Weight_Change\"]==\"Yes\"].shape[0]\n",
    "total3=data.shape[0]\n",
    "percentage3=(yes_count3/total3)*100\n",
    "percentage3"
   ]
  },
  {
   "cell_type": "code",
   "execution_count": null,
   "id": "a2ba5715-759d-46ae-8a5a-65c19a901264",
   "metadata": {},
   "outputs": [],
   "source": [
    "sns.countplot(x=\"Mood_Swings\", data=data)\n"
   ]
  },
  {
   "cell_type": "code",
   "execution_count": null,
   "id": "bc61d7ba-d8d8-48f7-89a4-a7c029f01fde",
   "metadata": {},
   "outputs": [],
   "source": [
    "sns.countplot(data=data,x=\"Days_Indoors\",hue=\"Growing_Stress\")"
   ]
  },
  {
   "cell_type": "code",
   "execution_count": null,
   "id": "f3926dfc-a34b-4b89-b068-6942689cd82c",
   "metadata": {},
   "outputs": [],
   "source": [
    "sns.countplot(data=data,x=\"Weight_Change\",hue=\"Age\")"
   ]
  },
  {
   "cell_type": "code",
   "execution_count": null,
   "id": "28202ffd-fdb8-4f34-ba16-6bf652f33a2c",
   "metadata": {},
   "outputs": [],
   "source": [
    "sns.countplot(data=data,x=\"Occupation\",hue=\"Mental_Health_History\")"
   ]
  },
  {
   "cell_type": "code",
   "execution_count": null,
   "id": "2b455f65-170f-4680-848b-7f96757eb8ce",
   "metadata": {},
   "outputs": [],
   "source": [
    "sns.countplot(data=data,x=\"Gender\",hue=\"Mental_Health_History\")"
   ]
  },
  {
   "cell_type": "code",
   "execution_count": null,
   "id": "905eccf8-ab2b-4826-bd52-d1afd9c1ef1d",
   "metadata": {},
   "outputs": [],
   "source": [
    "sns.countplot(data=data,x=\"Occupation\",hue=\"Mood_Swings\")"
   ]
  },
  {
   "cell_type": "code",
   "execution_count": null,
   "id": "7031968c-fd92-4b0a-8946-d6dae75e3d4c",
   "metadata": {},
   "outputs": [],
   "source": [
    "sns.countplot(data=data,x=\"Growing_Stress\",hue=\"Age\")"
   ]
  },
  {
   "cell_type": "code",
   "execution_count": null,
   "id": "b9b0d808-da16-4a97-af4c-25454fac2248",
   "metadata": {},
   "outputs": [],
   "source": [
    "sns.countplot(data=data,x=\"Quarantine_Frustrations\",hue=\"Mood_Swings\")"
   ]
  },
  {
   "cell_type": "code",
   "execution_count": 2,
   "id": "9ea493c4-a4e6-4d57-a439-40af97b30f05",
   "metadata": {},
   "outputs": [
    {
     "data": {
      "text/html": [
       "<div>\n",
       "<style scoped>\n",
       "    .dataframe tbody tr th:only-of-type {\n",
       "        vertical-align: middle;\n",
       "    }\n",
       "\n",
       "    .dataframe tbody tr th {\n",
       "        vertical-align: top;\n",
       "    }\n",
       "\n",
       "    .dataframe thead th {\n",
       "        text-align: right;\n",
       "    }\n",
       "</style>\n",
       "<table border=\"1\" class=\"dataframe\">\n",
       "  <thead>\n",
       "    <tr style=\"text-align: right;\">\n",
       "      <th></th>\n",
       "      <th>Age</th>\n",
       "      <th>Gender</th>\n",
       "      <th>Occupation</th>\n",
       "      <th>Days_Indoors</th>\n",
       "      <th>Growing_Stress</th>\n",
       "      <th>Quarantine_Frustrations</th>\n",
       "      <th>Changes_Habits</th>\n",
       "      <th>Mental_Health_History</th>\n",
       "      <th>Weight_Change</th>\n",
       "      <th>Mood_Swings</th>\n",
       "      <th>Coping_Struggles</th>\n",
       "      <th>Work_Interest</th>\n",
       "      <th>Social_Weakness</th>\n",
       "    </tr>\n",
       "  </thead>\n",
       "  <tbody>\n",
       "    <tr>\n",
       "      <th>0</th>\n",
       "      <td>20-25</td>\n",
       "      <td>Female</td>\n",
       "      <td>Corporate</td>\n",
       "      <td>1-14 days</td>\n",
       "      <td>Yes</td>\n",
       "      <td>Yes</td>\n",
       "      <td>No</td>\n",
       "      <td>Yes</td>\n",
       "      <td>Yes</td>\n",
       "      <td>Medium</td>\n",
       "      <td>No</td>\n",
       "      <td>No</td>\n",
       "      <td>Yes</td>\n",
       "    </tr>\n",
       "    <tr>\n",
       "      <th>1</th>\n",
       "      <td>30-Above</td>\n",
       "      <td>Male</td>\n",
       "      <td>Others</td>\n",
       "      <td>31-60 days</td>\n",
       "      <td>Yes</td>\n",
       "      <td>Yes</td>\n",
       "      <td>Maybe</td>\n",
       "      <td>No</td>\n",
       "      <td>No</td>\n",
       "      <td>High</td>\n",
       "      <td>No</td>\n",
       "      <td>No</td>\n",
       "      <td>Yes</td>\n",
       "    </tr>\n",
       "    <tr>\n",
       "      <th>2</th>\n",
       "      <td>30-Above</td>\n",
       "      <td>Female</td>\n",
       "      <td>Student</td>\n",
       "      <td>Go out Every day</td>\n",
       "      <td>No</td>\n",
       "      <td>No</td>\n",
       "      <td>Yes</td>\n",
       "      <td>No</td>\n",
       "      <td>No</td>\n",
       "      <td>Medium</td>\n",
       "      <td>Yes</td>\n",
       "      <td>Maybe</td>\n",
       "      <td>No</td>\n",
       "    </tr>\n",
       "    <tr>\n",
       "      <th>3</th>\n",
       "      <td>25-30</td>\n",
       "      <td>Male</td>\n",
       "      <td>Others</td>\n",
       "      <td>1-14 days</td>\n",
       "      <td>Yes</td>\n",
       "      <td>No</td>\n",
       "      <td>Maybe</td>\n",
       "      <td>No</td>\n",
       "      <td>Maybe</td>\n",
       "      <td>Medium</td>\n",
       "      <td>No</td>\n",
       "      <td>Maybe</td>\n",
       "      <td>Yes</td>\n",
       "    </tr>\n",
       "    <tr>\n",
       "      <th>4</th>\n",
       "      <td>16-20</td>\n",
       "      <td>Female</td>\n",
       "      <td>Student</td>\n",
       "      <td>More than 2 months</td>\n",
       "      <td>Yes</td>\n",
       "      <td>Yes</td>\n",
       "      <td>Yes</td>\n",
       "      <td>No</td>\n",
       "      <td>Yes</td>\n",
       "      <td>Medium</td>\n",
       "      <td>Yes</td>\n",
       "      <td>Maybe</td>\n",
       "      <td>No</td>\n",
       "    </tr>\n",
       "    <tr>\n",
       "      <th>...</th>\n",
       "      <td>...</td>\n",
       "      <td>...</td>\n",
       "      <td>...</td>\n",
       "      <td>...</td>\n",
       "      <td>...</td>\n",
       "      <td>...</td>\n",
       "      <td>...</td>\n",
       "      <td>...</td>\n",
       "      <td>...</td>\n",
       "      <td>...</td>\n",
       "      <td>...</td>\n",
       "      <td>...</td>\n",
       "      <td>...</td>\n",
       "    </tr>\n",
       "    <tr>\n",
       "      <th>819</th>\n",
       "      <td>20-25</td>\n",
       "      <td>Male</td>\n",
       "      <td>Corporate</td>\n",
       "      <td>Go out Every day</td>\n",
       "      <td>No</td>\n",
       "      <td>Yes</td>\n",
       "      <td>No</td>\n",
       "      <td>Yes</td>\n",
       "      <td>Yes</td>\n",
       "      <td>Medium</td>\n",
       "      <td>No</td>\n",
       "      <td>Yes</td>\n",
       "      <td>Maybe</td>\n",
       "    </tr>\n",
       "    <tr>\n",
       "      <th>820</th>\n",
       "      <td>20-25</td>\n",
       "      <td>Male</td>\n",
       "      <td>Others</td>\n",
       "      <td>1-14 days</td>\n",
       "      <td>Yes</td>\n",
       "      <td>Yes</td>\n",
       "      <td>No</td>\n",
       "      <td>Yes</td>\n",
       "      <td>Maybe</td>\n",
       "      <td>Low</td>\n",
       "      <td>No</td>\n",
       "      <td>Maybe</td>\n",
       "      <td>Maybe</td>\n",
       "    </tr>\n",
       "    <tr>\n",
       "      <th>821</th>\n",
       "      <td>20-25</td>\n",
       "      <td>Male</td>\n",
       "      <td>Student</td>\n",
       "      <td>More than 2 months</td>\n",
       "      <td>Yes</td>\n",
       "      <td>Maybe</td>\n",
       "      <td>Maybe</td>\n",
       "      <td>No</td>\n",
       "      <td>Yes</td>\n",
       "      <td>High</td>\n",
       "      <td>Yes</td>\n",
       "      <td>Yes</td>\n",
       "      <td>Maybe</td>\n",
       "    </tr>\n",
       "    <tr>\n",
       "      <th>822</th>\n",
       "      <td>16-20</td>\n",
       "      <td>Male</td>\n",
       "      <td>Business</td>\n",
       "      <td>15-30 days</td>\n",
       "      <td>No</td>\n",
       "      <td>No</td>\n",
       "      <td>Maybe</td>\n",
       "      <td>No</td>\n",
       "      <td>Maybe</td>\n",
       "      <td>Low</td>\n",
       "      <td>Yes</td>\n",
       "      <td>No</td>\n",
       "      <td>Maybe</td>\n",
       "    </tr>\n",
       "    <tr>\n",
       "      <th>823</th>\n",
       "      <td>30-Above</td>\n",
       "      <td>Female</td>\n",
       "      <td>Others</td>\n",
       "      <td>15-30 days</td>\n",
       "      <td>No</td>\n",
       "      <td>No</td>\n",
       "      <td>No</td>\n",
       "      <td>No</td>\n",
       "      <td>Yes</td>\n",
       "      <td>Low</td>\n",
       "      <td>Yes</td>\n",
       "      <td>No</td>\n",
       "      <td>Maybe</td>\n",
       "    </tr>\n",
       "  </tbody>\n",
       "</table>\n",
       "<p>824 rows × 13 columns</p>\n",
       "</div>"
      ],
      "text/plain": [
       "          Age  Gender Occupation        Days_Indoors Growing_Stress  \\\n",
       "0       20-25  Female  Corporate           1-14 days            Yes   \n",
       "1    30-Above    Male     Others          31-60 days            Yes   \n",
       "2    30-Above  Female    Student    Go out Every day             No   \n",
       "3       25-30    Male     Others           1-14 days            Yes   \n",
       "4       16-20  Female    Student  More than 2 months            Yes   \n",
       "..        ...     ...        ...                 ...            ...   \n",
       "819     20-25    Male  Corporate    Go out Every day             No   \n",
       "820     20-25    Male     Others           1-14 days            Yes   \n",
       "821     20-25    Male    Student  More than 2 months            Yes   \n",
       "822     16-20    Male   Business          15-30 days             No   \n",
       "823  30-Above  Female     Others          15-30 days             No   \n",
       "\n",
       "    Quarantine_Frustrations Changes_Habits Mental_Health_History  \\\n",
       "0                       Yes             No                   Yes   \n",
       "1                       Yes          Maybe                    No   \n",
       "2                        No            Yes                    No   \n",
       "3                        No          Maybe                    No   \n",
       "4                       Yes            Yes                    No   \n",
       "..                      ...            ...                   ...   \n",
       "819                     Yes             No                   Yes   \n",
       "820                     Yes             No                   Yes   \n",
       "821                   Maybe          Maybe                    No   \n",
       "822                      No          Maybe                    No   \n",
       "823                      No             No                    No   \n",
       "\n",
       "    Weight_Change Mood_Swings Coping_Struggles Work_Interest Social_Weakness  \n",
       "0             Yes      Medium               No            No             Yes  \n",
       "1              No        High               No            No             Yes  \n",
       "2              No      Medium              Yes         Maybe              No  \n",
       "3           Maybe      Medium               No         Maybe             Yes  \n",
       "4             Yes      Medium              Yes         Maybe              No  \n",
       "..            ...         ...              ...           ...             ...  \n",
       "819           Yes      Medium               No           Yes           Maybe  \n",
       "820         Maybe         Low               No         Maybe           Maybe  \n",
       "821           Yes        High              Yes           Yes           Maybe  \n",
       "822         Maybe         Low              Yes            No           Maybe  \n",
       "823           Yes         Low              Yes            No           Maybe  \n",
       "\n",
       "[824 rows x 13 columns]"
      ]
     },
     "execution_count": 2,
     "metadata": {},
     "output_type": "execute_result"
    }
   ],
   "source": [
    "import pandas as pd\n",
    "import numpy as np\n",
    "import seaborn as sns\n",
    "import matplotlib.pyplot as plt\n",
    "data= pd.read_csv(\"mental_health_finaldata_1.csv\")\n",
    "data"
   ]
  },
  {
   "cell_type": "code",
   "execution_count": null,
   "id": "ef6ee195-3b4f-4849-b026-c98c84f9caea",
   "metadata": {},
   "outputs": [],
   "source": []
  },
  {
   "cell_type": "code",
   "execution_count": null,
   "id": "7b29f443-aba4-475d-92ee-c80863e74311",
   "metadata": {},
   "outputs": [],
   "source": []
  },
  {
   "cell_type": "code",
   "execution_count": null,
   "id": "fbebbba7-7b38-447f-afa4-c65222e3a3b9",
   "metadata": {},
   "outputs": [],
   "source": []
  },
  {
   "cell_type": "code",
   "execution_count": null,
   "id": "3a83c11c-0594-48ca-bff2-9a3fb955a1b5",
   "metadata": {},
   "outputs": [],
   "source": []
  },
  {
   "cell_type": "code",
   "execution_count": null,
   "id": "9c2e17a1-aa4a-431e-8352-ab24be91b349",
   "metadata": {},
   "outputs": [],
   "source": []
  },
  {
   "cell_type": "code",
   "execution_count": null,
   "id": "9950b170-59af-4be7-9fd1-1e8a261cc6d5",
   "metadata": {},
   "outputs": [],
   "source": []
  },
  {
   "cell_type": "code",
   "execution_count": null,
   "id": "1018cfc0-2ec0-4229-92ca-809897ecc0de",
   "metadata": {},
   "outputs": [],
   "source": []
  },
  {
   "cell_type": "code",
   "execution_count": null,
   "id": "8964ee33-36e8-42e7-a936-45f8a70df4af",
   "metadata": {},
   "outputs": [],
   "source": []
  },
  {
   "cell_type": "code",
   "execution_count": null,
   "id": "0d40f3c3-9070-4353-a6d8-09ad48c63cb3",
   "metadata": {},
   "outputs": [],
   "source": []
  },
  {
   "cell_type": "code",
   "execution_count": null,
   "id": "910f97e8-84a5-40cc-b3a2-be958d246920",
   "metadata": {},
   "outputs": [],
   "source": [
    "sns.barplot(data=df,x=\"species\",y=\"sepalengthcm\")"
   ]
  },
  {
   "cell_type": "code",
   "execution_count": null,
   "id": "43f63dec-a49e-45b9-9589-92d5c773fa52",
   "metadata": {},
   "outputs": [],
   "source": []
  }
 ],
 "metadata": {
  "kernelspec": {
   "display_name": "Python 3 (ipykernel)",
   "language": "python",
   "name": "python3"
  },
  "language_info": {
   "codemirror_mode": {
    "name": "ipython",
    "version": 3
   },
   "file_extension": ".py",
   "mimetype": "text/x-python",
   "name": "python",
   "nbconvert_exporter": "python",
   "pygments_lexer": "ipython3",
   "version": "3.10.10"
  }
 },
 "nbformat": 4,
 "nbformat_minor": 5
}
